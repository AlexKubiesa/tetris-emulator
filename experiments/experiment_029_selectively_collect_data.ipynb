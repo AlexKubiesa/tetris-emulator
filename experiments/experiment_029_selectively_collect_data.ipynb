{
 "cells": [
  {
   "cell_type": "markdown",
   "metadata": {},
   "source": [
    "# Experiment 029\n",
    "\n",
    "In this experiment, we will selectively record gameplay data by only saving examples where the real next frame was deemed especially real by the discriminator, or where the fake next frame was deemed especially fake. Assuming this data would be added to the dataset used to originally train the model, we will check whether it has a high enough ratio of block spawns to falls."
   ]
  },
  {
   "cell_type": "markdown",
   "metadata": {},
   "source": [
    "## Record data\n",
    "\n",
    "We will collect the data with a custom game engine."
   ]
  },
  {
   "cell_type": "code",
   "execution_count": 1,
   "metadata": {},
   "outputs": [],
   "source": [
    "import numpy as np\n",
    "import numpy.typing as npt\n",
    "import torch\n",
    "import torch.nn.functional as F\n",
    "\n",
    "import engines\n",
    "import recording\n",
    "import models\n",
    "\n",
    "class SelectiveRecordingEngine(engines.TetrisEngine):\n",
    "    fake_threshold = 0.1\n",
    "    real_threshold = 0.9\n",
    "\n",
    "    def __init__(self, engine: engines.TetrisEngine, folder: str):\n",
    "        self.engine = engine\n",
    "        self.db = recording.RecordingDatabase(folder)\n",
    "        self.board_1 = None\n",
    "        self.board_2 = None\n",
    "        self.gen = models.TetrisModel()\n",
    "        self.gen.load_state_dict(torch.load(\"tetris_emulator.pth\"))\n",
    "        self.gen.eval()\n",
    "        self.disc = models.TetrisDiscriminator()\n",
    "        self.disc.load_state_dict(torch.load(\"tetris_discriminator.pth\"))\n",
    "        self.disc.eval()\n",
    "\n",
    "    def reset(self) -> tuple[npt.NDArray[np.int32], bool]:\n",
    "        self.board_1 = None\n",
    "        board, gameover = self.engine.reset()\n",
    "        self.board_2 = board\n",
    "        return board, gameover\n",
    "\n",
    "    def step(self, event_type: int) -> tuple[npt.NDArray[np.int32], bool]:\n",
    "        board, gameover = self.engine.step(event_type)\n",
    "        self.board_1 = self.board_2\n",
    "        self.board_2 = board\n",
    "        self._maybe_add_example()\n",
    "        return board, gameover\n",
    "    \n",
    "    def _maybe_add_example(self):\n",
    "        x = self._transform_board(self.board_1).unsqueeze(0)\n",
    "        y = self._transform_board(self.board_2).unsqueeze(0)\n",
    "        with torch.no_grad():\n",
    "            score_real = torch.sigmoid(self.disc(x, y)).squeeze(0).item()\n",
    "        if score_real >= self.real_threshold:\n",
    "            self._add_example()\n",
    "            return\n",
    "        y_fake = self.gen(x)\n",
    "        with torch.no_grad():\n",
    "            score_fake = torch.sigmoid(self.disc(x, y_fake)).squeeze(0).item()\n",
    "        if score_fake <= self.fake_threshold:\n",
    "            self._add_example()\n",
    "    \n",
    "    def _transform_board(self, board):\n",
    "        board = torch.tensor(board, dtype=torch.long)\n",
    "        board = F.one_hot(board, 2) # One-hot encode the cell types\n",
    "        board = board.type(torch.float) # Convert to floating-point\n",
    "        board = board.permute((2, 0, 1)) # Move channels/classes to dimension 0\n",
    "        return board\n",
    "    \n",
    "    def _add_example(self):\n",
    "        self.db.insert(np.array([self.board_1, self.board_2]))\n"
   ]
  },
  {
   "cell_type": "code",
   "execution_count": 3,
   "metadata": {},
   "outputs": [
    {
     "ename": "KeyboardInterrupt",
     "evalue": "",
     "output_type": "error",
     "traceback": [
      "\u001b[1;31m---------------------------------------------------------------------------\u001b[0m",
      "\u001b[1;31mKeyboardInterrupt\u001b[0m                         Traceback (most recent call last)",
      "Cell \u001b[1;32mIn[3], line 9\u001b[0m\n\u001b[0;32m      6\u001b[0m engine: engines\u001b[39m.\u001b[39mTetrisEngine \u001b[39m=\u001b[39m engines\u001b[39m.\u001b[39mRuleBasedTetrisEngine(COLS, ROWS)\n\u001b[0;32m      7\u001b[0m engine \u001b[39m=\u001b[39m SelectiveRecordingEngine(engine, \u001b[39m\"\u001b[39m\u001b[39mrecordings\u001b[39m\u001b[39m\"\u001b[39m)\n\u001b[1;32m----> 9\u001b[0m app \u001b[39m=\u001b[39m tetris\u001b[39m.\u001b[39;49mTetrisApp(engine)\n\u001b[0;32m     10\u001b[0m app\u001b[39m.\u001b[39mrun()\n",
      "File \u001b[1;32mc:\\Projects\\tetris-emulator\\tetris.py:53\u001b[0m, in \u001b[0;36mTetrisApp.__init__\u001b[1;34m(self, engine)\u001b[0m\n\u001b[0;32m     50\u001b[0m \u001b[39mself\u001b[39m\u001b[39m.\u001b[39mengine \u001b[39m=\u001b[39m engine\n\u001b[0;32m     52\u001b[0m pygame\u001b[39m.\u001b[39minit()\n\u001b[1;32m---> 53\u001b[0m pygame\u001b[39m.\u001b[39;49mkey\u001b[39m.\u001b[39;49mset_repeat(\u001b[39m250\u001b[39;49m, \u001b[39m25\u001b[39;49m)\n\u001b[0;32m     54\u001b[0m \u001b[39mself\u001b[39m\u001b[39m.\u001b[39mwidth \u001b[39m=\u001b[39m CELL_SIZE \u001b[39m*\u001b[39m (COLS \u001b[39m+\u001b[39m \u001b[39m6\u001b[39m)\n\u001b[0;32m     55\u001b[0m \u001b[39mself\u001b[39m\u001b[39m.\u001b[39mheight \u001b[39m=\u001b[39m CELL_SIZE \u001b[39m*\u001b[39m ROWS\n",
      "\u001b[1;31mKeyboardInterrupt\u001b[0m: "
     ]
    }
   ],
   "source": [
    "import tetris\n",
    "\n",
    "ROWS = 22\n",
    "COLS = 10\n",
    "\n",
    "engine: engines.TetrisEngine = engines.RuleBasedTetrisEngine(COLS, ROWS)\n",
    "engine = SelectiveRecordingEngine(engine, \"recordings\")\n",
    "\n",
    "app = tetris.TetrisApp(engine)\n",
    "app.run()"
   ]
  },
  {
   "cell_type": "markdown",
   "metadata": {},
   "source": [
    "# Analyse data\n",
    "\n",
    "Let's see what the collected data looks like."
   ]
  },
  {
   "cell_type": "code",
   "execution_count": 2,
   "metadata": {},
   "outputs": [
    {
     "name": "stdout",
     "output_type": "stream",
     "text": [
      "Dataset has 111 examples.\n"
     ]
    }
   ],
   "source": [
    "dataset = recording.RecordingDatabase(\"recordings\")\n",
    "print(f\"Dataset has {len(dataset)} examples.\")"
   ]
  },
  {
   "cell_type": "code",
   "execution_count": 3,
   "metadata": {},
   "outputs": [],
   "source": [
    "import matplotlib.pyplot as plt\n",
    "\n",
    "def show_example(boards):\n",
    "    fig, axs = plt.subplots(1, len(boards))\n",
    "    fig.suptitle(\"Training example\")\n",
    "\n",
    "    for i, ax in enumerate(axs):\n",
    "        ax.xaxis.set_visible(False)\n",
    "        ax.yaxis.set_visible(False)\n",
    "        ax.set_title(f\"Step {i}\")\n",
    "        ax.imshow(boards[i])\n",
    "\n",
    "    plt.show()"
   ]
  },
  {
   "cell_type": "code",
   "execution_count": 4,
   "metadata": {},
   "outputs": [
    {
     "name": "stdout",
     "output_type": "stream",
     "text": [
      "Showing example 58\n"
     ]
    },
    {
     "data": {
      "image/png": "[encoded data removed]",
      "text/plain": [
       "<Figure size 640x480 with 2 Axes>"
      ]
     },
     "metadata": {},
     "output_type": "display_data"
    }
   ],
   "source": [
    "# Show a random example from the training set. Run this repeatedly to get an overview of the data.\n",
    "import random\n",
    "\n",
    "idx = random.randrange(len(dataset))\n",
    "print(f\"Showing example {idx}\")\n",
    "boards = dataset[idx]\n",
    "show_example(boards)"
   ]
  },
  {
   "cell_type": "markdown",
   "metadata": {},
   "source": [
    "Most of the examples seem to be block spawns, which is good, since that's what was lacking in the original dataset. Let's calculate exactly how many are block spawns."
   ]
  },
  {
   "cell_type": "code",
   "execution_count": 5,
   "metadata": {},
   "outputs": [
    {
     "name": "stdout",
     "output_type": "stream",
     "text": [
      "97 / 111 examples were spawns (87.39%)\n"
     ]
    }
   ],
   "source": [
    "from metrics import get_block_spawn_type\n",
    "\n",
    "num_spawns = 0\n",
    "\n",
    "for boards in dataset:\n",
    "    boards = torch.from_numpy(boards)\n",
    "    x, y = boards\n",
    "    if get_block_spawn_type(x, y) is not None:\n",
    "        num_spawns += 1\n",
    "\n",
    "print(f\"{num_spawns} / {len(dataset)} examples were spawns ({num_spawns / len(dataset):.2%})\")"
   ]
  },
  {
   "cell_type": "markdown",
   "metadata": {},
   "source": [
    "Indeed, most of the examples are block spawns."
   ]
  },
  {
   "cell_type": "markdown",
   "metadata": {},
   "source": [
    "# Conclusion\n",
    "\n",
    "When we selectively collect data according to the discriminator scores, we get a high proportion of block spawns. This way, we can avoid collecting a lot of data only to throw away most of it: we collect only what we need.\n",
    "\n",
    "One caveat is that the data we collect will be targeted towards a particular generator's weaknesses. So, this new data should supplement an already-existing dataset instead of being used on its own. For example, the `tetris_emulator` dataset currently has 2222 examples, so we could add 200 examples collected with the selective method to form a more balanced dataset of 2422 examples. A GAN trained on this new dataset would hopefully have fewer weaknesses, and this new set of weaknesses would be the basis of the next round of data collection."
   ]
  }
 ],
 "metadata": {
  "kernelspec": {
   "display_name": "venv",
   "language": "python",
   "name": "python3"
  },
  "language_info": {
   "codemirror_mode": {
    "name": "ipython",
    "version": 3
   },
   "file_extension": ".py",
   "mimetype": "text/x-python",
   "name": "python",
   "nbconvert_exporter": "python",
   "pygments_lexer": "ipython3",
   "version": "3.10.7"
  },
  "orig_nbformat": 4
 },
 "nbformat": 4,
 "nbformat_minor": 2
}
