{
 "cells": [
  {
   "attachments": {},
   "cell_type": "markdown",
   "metadata": {},
   "source": [
    "# Prepare Tetris emulator data - balanced\n",
    "\n",
    "The data recorded while playing the game needs to be checked and cleaned before being used to train a model. In addition, we will ensure that the number of block spawn examples is about equal to the number of block fall examples."
   ]
  },
  {
   "cell_type": "code",
   "execution_count": 36,
   "metadata": {},
   "outputs": [],
   "source": [
    "import os\n",
    "from pathlib import Path\n",
    "import random\n",
    "\n",
    "import numpy as np\n",
    "import matplotlib.pyplot as plt\n",
    "\n",
    "from recording import RecordingDatabase"
   ]
  },
  {
   "cell_type": "code",
   "execution_count": 3,
   "metadata": {},
   "outputs": [],
   "source": [
    "class RecordingFolder:\n",
    "    def __init__(self, path: str):\n",
    "        self.path = path\n",
    "        if not os.path.exists(path):\n",
    "            raise FileNotFoundError()\n",
    "        with os.scandir(self.path) as it:\n",
    "            it_files = (file for file in it if file.is_file())\n",
    "            try:\n",
    "                entry: os.DirEntry = next(iter(it_files))\n",
    "                _, self.ext = os.path.splitext(entry.name)\n",
    "            except StopIteration:\n",
    "                self.ext = None\n",
    "            self.highest_index = max((int(Path(file.path).stem) for file in it_files), default=-1)\n",
    "    \n",
    "    def __len__(self):\n",
    "        return self.highest_index + 1\n",
    "    \n",
    "    def __getitem__(self, idx):\n",
    "        file = os.path.join(self.path, f\"{idx}{self.ext}\")\n",
    "        if not os.path.exists(file):\n",
    "            raise IndexError()\n",
    "        return file\n",
    "    \n",
    "    def delete_items(self, idxs):\n",
    "        for idx in idxs:\n",
    "            file = os.path.join(self.path, f\"{idx}{self.ext}\")\n",
    "            os.remove(file)\n",
    "        self.reindex()\n",
    "    \n",
    "    def reindex(self):\n",
    "        self.recompute_highest_index()\n",
    "        for i1 in range(self.highest_index+1):\n",
    "            f1 = os.path.join(self.path, f\"{i1}{self.ext}\")\n",
    "            if os.path.exists(f1):\n",
    "                continue\n",
    "            for i2 in range(i1+1, self.highest_index+1):\n",
    "                f2 = os.path.join(self.path, f\"{i2}{self.ext}\")\n",
    "                if os.path.exists(f2):\n",
    "                    os.rename(f2, f1)\n",
    "                    break\n",
    "        self.recompute_highest_index()\n",
    "    \n",
    "    def recompute_highest_index(self):\n",
    "        with os.scandir(self.path) as it:\n",
    "            self.highest_index = max((int(Path(file.path).stem) for file in it if os.path.isfile(file)), default=-1)"
   ]
  },
  {
   "cell_type": "code",
   "execution_count": 4,
   "metadata": {},
   "outputs": [
    {
     "name": "stdout",
     "output_type": "stream",
     "text": [
      "data\\balanced has 22022 files.\n",
      "data\\balanced\\train has 0 files.\n",
      "data\\balanced\\test has 0 files.\n"
     ]
    }
   ],
   "source": [
    "folder = RecordingFolder(os.path.join(\"data\", \"balanced\"))\n",
    "train_folder = RecordingFolder(os.path.join(\"data\", \"balanced\", \"train\"))\n",
    "test_folder = RecordingFolder(os.path.join(\"data\", \"balanced\", \"test\"))\n",
    "print(f\"{folder.path} has {len(folder)} files.\")\n",
    "print(f\"{train_folder.path} has {len(train_folder)} files.\")\n",
    "print(f\"{test_folder.path} has {len(test_folder)} files.\")"
   ]
  },
  {
   "cell_type": "code",
   "execution_count": 22,
   "metadata": {},
   "outputs": [
    {
     "name": "stdout",
     "output_type": "stream",
     "text": [
      "[[[0 0 0 0 0 0 0 0 0 0]\n",
      "  [0 0 0 0 0 0 0 0 0 0]\n",
      "  [0 0 0 0 0 0 0 0 0 0]\n",
      "  [0 0 0 0 0 0 0 0 0 0]\n",
      "  [0 0 0 0 0 0 0 0 0 0]\n",
      "  [0 0 0 0 0 0 0 0 0 0]\n",
      "  [0 0 0 0 0 0 0 0 0 0]\n",
      "  [0 0 0 0 0 0 0 0 0 0]\n",
      "  [0 0 0 0 0 0 0 0 0 0]\n",
      "  [0 0 0 0 0 0 0 0 0 0]\n",
      "  [0 0 0 0 0 0 0 0 0 0]\n",
      "  [0 0 0 0 0 0 0 0 0 0]\n",
      "  [0 0 0 0 0 0 0 0 0 0]\n",
      "  [0 0 0 0 0 0 0 0 0 0]\n",
      "  [0 0 0 0 0 0 0 0 0 0]\n",
      "  [0 0 0 0 0 0 0 0 0 0]\n",
      "  [0 0 0 0 0 0 0 0 0 0]\n",
      "  [0 0 0 0 0 0 0 0 0 0]\n",
      "  [0 0 0 0 0 0 0 0 0 0]\n",
      "  [0 0 0 0 0 0 0 0 0 0]\n",
      "  [0 0 0 0 0 0 0 0 0 0]\n",
      "  [0 0 0 0 0 0 0 0 0 0]]\n",
      "\n",
      " [[0 0 0 1 1 1 0 0 0 0]\n",
      "  [0 0 0 0 1 0 0 0 0 0]\n",
      "  [0 0 0 0 0 0 0 0 0 0]\n",
      "  [0 0 0 0 0 0 0 0 0 0]\n",
      "  [0 0 0 0 0 0 0 0 0 0]\n",
      "  [0 0 0 0 0 0 0 0 0 0]\n",
      "  [0 0 0 0 0 0 0 0 0 0]\n",
      "  [0 0 0 0 0 0 0 0 0 0]\n",
      "  [0 0 0 0 0 0 0 0 0 0]\n",
      "  [0 0 0 0 0 0 0 0 0 0]\n",
      "  [0 0 0 0 0 0 0 0 0 0]\n",
      "  [0 0 0 0 0 0 0 0 0 0]\n",
      "  [0 0 0 0 0 0 0 0 0 0]\n",
      "  [0 0 0 0 0 0 0 0 0 0]\n",
      "  [0 0 0 0 0 0 0 0 0 0]\n",
      "  [0 0 0 0 0 0 0 0 0 0]\n",
      "  [0 0 0 0 0 0 0 0 0 0]\n",
      "  [0 0 0 0 0 0 0 0 0 0]\n",
      "  [0 0 0 0 0 0 0 0 0 0]\n",
      "  [0 0 0 0 0 0 0 0 0 0]\n",
      "  [0 0 0 0 0 0 0 0 0 0]\n",
      "  [0 0 0 0 0 0 0 0 0 0]]]\n",
      "(2, 22, 10)\n"
     ]
    }
   ],
   "source": [
    "# Check we can read the files\n",
    "\n",
    "file = next(iter(folder))\n",
    "boards = np.load(file)\n",
    "print(boards)\n",
    "print(boards.shape)"
   ]
  },
  {
   "cell_type": "code",
   "execution_count": 6,
   "metadata": {},
   "outputs": [
    {
     "data": {
      "image/png": "[encoded data removed]",
      "text/plain": [
       "<Figure size 640x480 with 2 Axes>"
      ]
     },
     "metadata": {},
     "output_type": "display_data"
    }
   ],
   "source": [
    "def show_example(file):\n",
    "    boards = np.load(file)\n",
    "\n",
    "    fig, axs = plt.subplots(1, len(boards))\n",
    "    fig.suptitle(\"Training example\")\n",
    "\n",
    "    for i, ax in enumerate(axs):\n",
    "        ax.xaxis.set_visible(False)\n",
    "        ax.yaxis.set_visible(False)\n",
    "        ax.set_title(f\"Step {i}\")\n",
    "        ax.imshow(boards[i])\n",
    "\n",
    "    plt.show()\n",
    "\n",
    "\n",
    "show_example(file)"
   ]
  },
  {
   "cell_type": "code",
   "execution_count": 20,
   "metadata": {},
   "outputs": [
    {
     "name": "stdout",
     "output_type": "stream",
     "text": [
      "Showing example 19973\n"
     ]
    },
    {
     "data": {
      "image/png": "[encoded data removed]",
      "text/plain": [
       "<Figure size 640x480 with 2 Axes>"
      ]
     },
     "metadata": {},
     "output_type": "display_data"
    }
   ],
   "source": [
    "# Show a random example. Run this repeatedly to get an overview of the data.\n",
    "\n",
    "idx = random.randrange(len(folder))\n",
    "print(f\"Showing example {idx}\")\n",
    "file = folder[idx]\n",
    "show_example(file)"
   ]
  },
  {
   "cell_type": "markdown",
   "metadata": {},
   "source": [
    "# Checks\n",
    "\n",
    "Sanity check the data."
   ]
  },
  {
   "cell_type": "code",
   "execution_count": 24,
   "metadata": {},
   "outputs": [],
   "source": [
    "for file in folder:\n",
    "    boards = np.load(file)\n",
    "    # Ensure all array elements are 0 or 1\n",
    "    assert ((boards == 0) | (boards == 1)).all()"
   ]
  },
  {
   "cell_type": "markdown",
   "metadata": {},
   "source": [
    "# Balance the data\n",
    "\n",
    "Recorded data tends to have a lot of block fall frames compared to block spawn frames. We will ensure the numbers are roughly equal."
   ]
  },
  {
   "cell_type": "code",
   "execution_count": 25,
   "metadata": {},
   "outputs": [],
   "source": [
    "def is_block_spawn(boards):\n",
    "    return (boards[-2, 0, :] == 0).all() and (boards[-1, 0, :] == 1).any()"
   ]
  },
  {
   "cell_type": "code",
   "execution_count": 28,
   "metadata": {},
   "outputs": [
    {
     "name": "stdout",
     "output_type": "stream",
     "text": [
      "Spawns: 2116 (9.61%)\n",
      "Falls: 19906 (90.39%)\n"
     ]
    }
   ],
   "source": [
    "spawn_count = 0\n",
    "fall_count = 0\n",
    "\n",
    "for file in folder:\n",
    "    boards = np.load(file)\n",
    "    if is_block_spawn(boards):\n",
    "        spawn_count += 1\n",
    "    else:\n",
    "        fall_count += 1\n",
    "\n",
    "print(f\"Spawns: {spawn_count} ({spawn_count / len(folder):.2%})\")\n",
    "print(f\"Falls: {fall_count} ({fall_count / len(folder):.2%})\")"
   ]
  },
  {
   "cell_type": "code",
   "execution_count": 29,
   "metadata": {},
   "outputs": [
    {
     "ename": "KeyboardInterrupt",
     "evalue": "",
     "output_type": "error",
     "traceback": [
      "\u001b[1;31m---------------------------------------------------------------------------\u001b[0m",
      "\u001b[1;31mFileNotFoundError\u001b[0m                         Traceback (most recent call last)",
      "File \u001b[1;32m~\\AppData\\Local\\Programs\\Python\\Python310\\lib\\genericpath.py:19\u001b[0m, in \u001b[0;36mexists\u001b[1;34m(path)\u001b[0m\n\u001b[0;32m     18\u001b[0m \u001b[39mtry\u001b[39;00m:\n\u001b[1;32m---> 19\u001b[0m     os\u001b[39m.\u001b[39;49mstat(path)\n\u001b[0;32m     20\u001b[0m \u001b[39mexcept\u001b[39;00m (\u001b[39mOSError\u001b[39;00m, \u001b[39mValueError\u001b[39;00m):\n",
      "\u001b[1;31mFileNotFoundError\u001b[0m: [WinError 2] The system cannot find the file specified: 'data\\\\balanced\\\\16891.npy'",
      "\nDuring handling of the above exception, another exception occurred:\n",
      "\u001b[1;31mKeyboardInterrupt\u001b[0m                         Traceback (most recent call last)",
      "Cell \u001b[1;32mIn[29], line 8\u001b[0m\n\u001b[0;32m      6\u001b[0m num_to_delete \u001b[39m=\u001b[39m fall_count \u001b[39m-\u001b[39m spawn_count\n\u001b[0;32m      7\u001b[0m idxs_to_delete \u001b[39m=\u001b[39m fall_idxs[:num_to_delete]\n\u001b[1;32m----> 8\u001b[0m folder\u001b[39m.\u001b[39;49mdelete_items(idxs_to_delete)\n\u001b[0;32m      9\u001b[0m fall_count \u001b[39m=\u001b[39m spawn_count\n\u001b[0;32m     11\u001b[0m \u001b[39mprint\u001b[39m(\u001b[39mf\u001b[39m\u001b[39m\"\u001b[39m\u001b[39m{\u001b[39;00mnum_to_delete\u001b[39m}\u001b[39;00m\u001b[39m block fall examples were deleted.\u001b[39m\u001b[39m\"\u001b[39m)\n",
      "Cell \u001b[1;32mIn[3], line 28\u001b[0m, in \u001b[0;36mRecordingFolder.delete_items\u001b[1;34m(self, idxs)\u001b[0m\n\u001b[0;32m     26\u001b[0m     file \u001b[39m=\u001b[39m os\u001b[39m.\u001b[39mpath\u001b[39m.\u001b[39mjoin(\u001b[39mself\u001b[39m\u001b[39m.\u001b[39mpath, \u001b[39mf\u001b[39m\u001b[39m\"\u001b[39m\u001b[39m{\u001b[39;00midx\u001b[39m}\u001b[39;00m\u001b[39m{\u001b[39;00m\u001b[39mself\u001b[39m\u001b[39m.\u001b[39mext\u001b[39m}\u001b[39;00m\u001b[39m\"\u001b[39m)\n\u001b[0;32m     27\u001b[0m     os\u001b[39m.\u001b[39mremove(file)\n\u001b[1;32m---> 28\u001b[0m \u001b[39mself\u001b[39;49m\u001b[39m.\u001b[39;49mreindex()\n",
      "Cell \u001b[1;32mIn[3], line 38\u001b[0m, in \u001b[0;36mRecordingFolder.reindex\u001b[1;34m(self)\u001b[0m\n\u001b[0;32m     36\u001b[0m \u001b[39mfor\u001b[39;00m i2 \u001b[39min\u001b[39;00m \u001b[39mrange\u001b[39m(i1\u001b[39m+\u001b[39m\u001b[39m1\u001b[39m, \u001b[39mself\u001b[39m\u001b[39m.\u001b[39mhighest_index\u001b[39m+\u001b[39m\u001b[39m1\u001b[39m):\n\u001b[0;32m     37\u001b[0m     f2 \u001b[39m=\u001b[39m os\u001b[39m.\u001b[39mpath\u001b[39m.\u001b[39mjoin(\u001b[39mself\u001b[39m\u001b[39m.\u001b[39mpath, \u001b[39mf\u001b[39m\u001b[39m\"\u001b[39m\u001b[39m{\u001b[39;00mi2\u001b[39m}\u001b[39;00m\u001b[39m{\u001b[39;00m\u001b[39mself\u001b[39m\u001b[39m.\u001b[39mext\u001b[39m}\u001b[39;00m\u001b[39m\"\u001b[39m)\n\u001b[1;32m---> 38\u001b[0m     \u001b[39mif\u001b[39;00m os\u001b[39m.\u001b[39;49mpath\u001b[39m.\u001b[39;49mexists(f2):\n\u001b[0;32m     39\u001b[0m         os\u001b[39m.\u001b[39mrename(f2, f1)\n\u001b[0;32m     40\u001b[0m         \u001b[39mbreak\u001b[39;00m\n",
      "File \u001b[1;32m~\\AppData\\Local\\Programs\\Python\\Python310\\lib\\genericpath.py:19\u001b[0m, in \u001b[0;36mexists\u001b[1;34m(path)\u001b[0m\n\u001b[0;32m     17\u001b[0m \u001b[39m\u001b[39m\u001b[39m\"\"\"Test whether a path exists.  Returns False for broken symbolic links\"\"\"\u001b[39;00m\n\u001b[0;32m     18\u001b[0m \u001b[39mtry\u001b[39;00m:\n\u001b[1;32m---> 19\u001b[0m     os\u001b[39m.\u001b[39;49mstat(path)\n\u001b[0;32m     20\u001b[0m \u001b[39mexcept\u001b[39;00m (\u001b[39mOSError\u001b[39;00m, \u001b[39mValueError\u001b[39;00m):\n\u001b[0;32m     21\u001b[0m     \u001b[39mreturn\u001b[39;00m \u001b[39mFalse\u001b[39;00m\n",
      "\u001b[1;31mKeyboardInterrupt\u001b[0m: "
     ]
    }
   ],
   "source": [
    "import random\n",
    "\n",
    "fall_idxs = [i for i in range(len(folder)) if not is_block_spawn(np.load(folder[i]))]\n",
    "random.shuffle(fall_idxs)\n",
    "\n",
    "num_to_delete = fall_count - spawn_count\n",
    "idxs_to_delete = fall_idxs[:num_to_delete]\n",
    "folder.delete_items(idxs_to_delete)\n",
    "fall_count = spawn_count\n",
    "\n",
    "print(f\"{num_to_delete} block fall examples were deleted.\")"
   ]
  },
  {
   "cell_type": "code",
   "execution_count": 44,
   "metadata": {},
   "outputs": [
    {
     "name": "stdout",
     "output_type": "stream",
     "text": [
      "Spawns: 2116 (50.00%)\n",
      "Falls: 2116 (50.00%)\n"
     ]
    }
   ],
   "source": [
    "del folder\n",
    "del train_folder\n",
    "del test_folder\n",
    "\n",
    "db = RecordingDatabase(os.path.join(\"data\", \"balanced\"))\n",
    "\n",
    "spawn_count = 0\n",
    "fall_count = 0\n",
    "\n",
    "for boards in db:\n",
    "    if is_block_spawn(boards):\n",
    "        spawn_count += 1\n",
    "    else:\n",
    "        fall_count += 1\n",
    "\n",
    "print(f\"Spawns: {spawn_count} ({spawn_count / len(db):.2%})\")\n",
    "print(f\"Falls: {fall_count} ({fall_count / len(db):.2%})\")\n",
    "assert spawn_count == fall_count"
   ]
  },
  {
   "attachments": {},
   "cell_type": "markdown",
   "metadata": {},
   "source": [
    "# Train/test split\n",
    "\n",
    "We split the data into training and test data in a stratified way between block falls and spawns."
   ]
  },
  {
   "cell_type": "code",
   "execution_count": 46,
   "metadata": {},
   "outputs": [
    {
     "name": "stdout",
     "output_type": "stream",
     "text": [
      "Files split into 1693 training and 423 test examples of each kind.\n"
     ]
    }
   ],
   "source": [
    "test_split = 0.2\n",
    "test_count = int(test_split * spawn_count)\n",
    "train_count = spawn_count - test_count\n",
    "\n",
    "spawn_idxs = [i for i in range(len(db)) if is_block_spawn(db[i])]\n",
    "random.shuffle(spawn_idxs)\n",
    "\n",
    "fall_idxs = [i for i in range(len(db)) if not is_block_spawn(db[i])]\n",
    "random.shuffle(fall_idxs)\n",
    "\n",
    "for i in range(train_count):\n",
    "    old_spawn = os.path.join(\"data\", \"balanced\", str(spawn_idxs[i]) + db._ext)\n",
    "    new_spawn = os.path.join(\"data\", \"balanced\", \"train\", str(2 * i) + db._ext)\n",
    "    os.rename(old_spawn, new_spawn)\n",
    "\n",
    "    old_fall = os.path.join(\"data\", \"balanced\", str(fall_idxs[i]) + db._ext)\n",
    "    new_fall = os.path.join(\"data\", \"balanced\", \"train\", str(2 * i + 1) + db._ext)\n",
    "    os.rename(old_fall, new_fall)\n",
    "\n",
    "for i in range(test_count):\n",
    "    old_spawn = os.path.join(\"data\", \"balanced\", str(spawn_idxs[i + train_count]) + db._ext)\n",
    "    new_spawn = os.path.join(\"data\", \"balanced\", \"test\", str(2 * i) + db._ext)\n",
    "    os.rename(old_spawn, new_spawn)\n",
    "\n",
    "    old_fall = os.path.join(\"data\", \"balanced\", str(fall_idxs[i + train_count]) + db._ext)\n",
    "    new_fall = os.path.join(\"data\", \"balanced\", \"test\", str(2 * i + 1) + db._ext)\n",
    "    os.rename(old_fall, new_fall)\n",
    "\n",
    "del spawn_idxs\n",
    "del fall_idxs\n",
    "del db\n",
    "print(f\"Files split into {train_count} training and {test_count} test examples of each kind.\")"
   ]
  },
  {
   "attachments": {},
   "cell_type": "markdown",
   "metadata": {},
   "source": [
    "# Post-split checks"
   ]
  },
  {
   "attachments": {},
   "cell_type": "markdown",
   "metadata": {},
   "source": [
    "Let's check the number of each type of block spawn in both the training and test folder."
   ]
  },
  {
   "cell_type": "code",
   "execution_count": 47,
   "metadata": {},
   "outputs": [],
   "source": [
    "import torch\n",
    "from torch.utils.data import Dataset\n",
    "\n",
    "class RecordingDataset(Dataset):\n",
    "    def __init__(self, path: str):\n",
    "        self.path = path\n",
    "        if not os.path.exists(path):\n",
    "            raise FileNotFoundError()\n",
    "        with os.scandir(self.path) as it:\n",
    "            entry: os.DirEntry = next(iter(it))\n",
    "            _, self.ext = os.path.splitext(entry.name)\n",
    "            self.highest_index = max((int(Path(file.path).stem) for file in it), default=-1)\n",
    "\n",
    "    def __len__(self):\n",
    "        return self.highest_index + 1\n",
    "\n",
    "    def __getitem__(self, idx):\n",
    "        file = os.path.join(self.path, f\"{idx}{self.ext}\")\n",
    "        if not os.path.exists(file):\n",
    "            raise IndexError()\n",
    "        boards = np.load(file)\n",
    "        x = torch.tensor(boards[-2]) # Ignore all boards except the last two\n",
    "        y = torch.tensor(boards[-1], dtype=torch.long)\n",
    "        return x, y\n",
    "        "
   ]
  },
  {
   "cell_type": "code",
   "execution_count": 49,
   "metadata": {},
   "outputs": [
    {
     "name": "stdout",
     "output_type": "stream",
     "text": [
      "Describing training dataset...\n",
      "{'I': 221, 'O': 246, 'T': 235, 'Z': 227, 'S': 257, 'J': 251, 'L': 256}\n",
      "Dataset has 1693 block spawns.\n",
      "\n",
      "Describing test dataset...\n",
      "{'I': 47, 'O': 57, 'T': 76, 'Z': 51, 'S': 58, 'J': 74, 'L': 60}\n",
      "Dataset has 423 block spawns.\n"
     ]
    }
   ],
   "source": [
    "class BlockType:\n",
    "    I = \"I\"\n",
    "    O = \"O\"\n",
    "    T = \"T\"\n",
    "    Z = \"Z\"\n",
    "    S = \"S\"\n",
    "    J = \"J\"\n",
    "    L = \"L\"\n",
    "    All = [I, O, T, Z, S, J, L]\n",
    "    \n",
    "def get_block_spawn_type(example):\n",
    "    x, y = example\n",
    "    if (x[0, :] == 1).any() | (y[0, :] == 0).all():\n",
    "        return None\n",
    "    if (y[1, :] == 0).all():\n",
    "        return BlockType.I\n",
    "    if y[0, 3] == 1:\n",
    "        if y[1, 3] == 1:\n",
    "            return BlockType.J\n",
    "        else:\n",
    "            if y[0, 5] == 1:\n",
    "                return BlockType.T\n",
    "            else:\n",
    "                return BlockType.Z\n",
    "    else:\n",
    "        if y[1, 3] == 1:\n",
    "            if y[0, 4] == 1:\n",
    "                return BlockType.S\n",
    "            else:\n",
    "                return BlockType.L\n",
    "        else:\n",
    "            return BlockType.O\n",
    "\n",
    "\n",
    "def count_block_spawns_by_type(dataset):\n",
    "    spawns_by_type = {block_type: 0 for block_type in BlockType.All}\n",
    "    for example in dataset:\n",
    "        spawn_type = get_block_spawn_type(example)\n",
    "        if spawn_type is not None:\n",
    "            spawns_by_type[spawn_type] += 1\n",
    "    return spawns_by_type\n",
    "\n",
    "\n",
    "def describe_block_spawns(dataset):\n",
    "    spawns_by_type = count_block_spawns_by_type(dataset)\n",
    "    print(spawns_by_type)\n",
    "    \n",
    "    num_block_spawns = sum(val for key, val in spawns_by_type.items() if key is not None)\n",
    "    frac_block_spawns = num_block_spawns / len(dataset)\n",
    "    print(f\"Dataset has {num_block_spawns} block spawns.\")\n",
    "\n",
    "\n",
    "train_dataset = RecordingDataset(os.path.join(\"data\", \"balanced\", \"train\"))\n",
    "test_dataset = RecordingDataset(os.path.join(\"data\", \"balanced\", \"test\"))\n",
    "\n",
    "print(\"Describing training dataset...\")\n",
    "describe_block_spawns(train_dataset)\n",
    "print()\n",
    "print(\"Describing test dataset...\")\n",
    "describe_block_spawns(test_dataset)"
   ]
  },
  {
   "cell_type": "code",
   "execution_count": null,
   "metadata": {},
   "outputs": [],
   "source": []
  }
 ],
 "metadata": {
  "kernelspec": {
   "display_name": "venv",
   "language": "python",
   "name": "python3"
  },
  "language_info": {
   "codemirror_mode": {
    "name": "ipython",
    "version": 3
   },
   "file_extension": ".py",
   "mimetype": "text/x-python",
   "name": "python",
   "nbconvert_exporter": "python",
   "pygments_lexer": "ipython3",
   "version": "3.10.7"
  },
  "orig_nbformat": 4
 },
 "nbformat": 4,
 "nbformat_minor": 2
}
