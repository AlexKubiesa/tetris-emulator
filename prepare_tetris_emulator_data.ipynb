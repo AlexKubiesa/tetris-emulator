{
 "cells": [
  {
   "attachments": {},
   "cell_type": "markdown",
   "metadata": {},
   "source": [
    "# Prepare Tetris emulator data\n",
    "\n",
    "The data recorded while playing the game needs to be checked and cleaned before being used to train a model."
   ]
  },
  {
   "cell_type": "code",
   "execution_count": 1,
   "metadata": {},
   "outputs": [],
   "source": [
    "import os\n",
    "from pathlib import Path\n",
    "import random\n",
    "\n",
    "import numpy as np\n",
    "import matplotlib.pyplot as plt\n",
    "\n",
    "from recording import FileBasedDatabaseWithEvents"
   ]
  },
  {
   "cell_type": "code",
   "execution_count": 2,
   "metadata": {},
   "outputs": [
    {
     "name": "stdout",
     "output_type": "stream",
     "text": [
      "recordings has 51 files.\n",
      "data\\tetris_emulator has 0 files.\n",
      "data\\tetris_emulator\\train has 0 files.\n",
      "data\\tetris_emulator\\test has 0 files.\n"
     ]
    }
   ],
   "source": [
    "db_rec = FileBasedDatabaseWithEvents(\"recordings\")\n",
    "db = FileBasedDatabaseWithEvents(os.path.join(\"data\", \"tetris_emulator\"))\n",
    "db_train = FileBasedDatabaseWithEvents(os.path.join(\"data\", \"tetris_emulator\", \"train\"))\n",
    "db_test = FileBasedDatabaseWithEvents(os.path.join(\"data\", \"tetris_emulator\", \"test\"))\n",
    "print(f\"{db_rec._path} has {len(db_rec)} files.\")\n",
    "print(f\"{db._path} has {len(db)} files.\")\n",
    "print(f\"{db_train._path} has {len(db_train)} files.\")\n",
    "print(f\"{db_test._path} has {len(db_test)} files.\")"
   ]
  },
  {
   "cell_type": "code",
   "execution_count": 3,
   "metadata": {},
   "outputs": [
    {
     "name": "stdout",
     "output_type": "stream",
     "text": [
      "Moved data from recordings to data\\tetris_emulator\n"
     ]
    }
   ],
   "source": [
    "# Move files from recordings folder to our dataset\n",
    "for boards, events in db_rec:\n",
    "    db.insert(boards, events)\n",
    "\n",
    "print(f\"Moved data from {db_rec._path} to {db._path}\")\n",
    "\n",
    "db_rec.delete_all()"
   ]
  },
  {
   "cell_type": "code",
   "execution_count": 4,
   "metadata": {},
   "outputs": [
    {
     "name": "stdout",
     "output_type": "stream",
     "text": [
      "boards: shape (2, 22, 10), dtype int32\n",
      "events: shape (1,), dtype int32\n"
     ]
    }
   ],
   "source": [
    "# Check we can read the files\n",
    "\n",
    "boards, events = next(iter(db))\n",
    "print(f\"boards: shape {boards.shape}, dtype {boards.dtype}\")\n",
    "print(f\"events: shape {events.shape}, dtype {events.dtype}\")"
   ]
  },
  {
   "cell_type": "code",
   "execution_count": 5,
   "metadata": {},
   "outputs": [
    {
     "name": "stdout",
     "output_type": "stream",
     "text": [
      "pygame 2.4.0 (SDL 2.26.4, Python 3.10.7)\n",
      "Hello from the pygame community. https://www.pygame.org/contribute.html\n"
     ]
    },
    {
     "data": {
      "image/png": "[encoded data removed]",
      "text/plain": [
       "<Figure size 640x480 with 2 Axes>"
      ]
     },
     "metadata": {},
     "output_type": "display_data"
    }
   ],
   "source": [
    "from tetris import CELL_COLORS\n",
    "from engines import EVENT_NAMES\n",
    "\n",
    "\n",
    "def render_boards(boards):\n",
    "    batch_size, height, width = boards.shape\n",
    "    imgs = np.zeros((batch_size, height, width, 3), dtype=np.int32)\n",
    "    for idx in range(batch_size):\n",
    "        for row in range(height):\n",
    "            for col in range(width):\n",
    "                imgs[idx, row, col, :] = CELL_COLORS[boards[idx, row, col]]\n",
    "    return imgs\n",
    "\n",
    "\n",
    "\n",
    "def show_example(boards, events):\n",
    "    imgs = render_boards(boards)\n",
    "    event_name = EVENT_NAMES[events.item()]\n",
    "\n",
    "    fig, axs = plt.subplots(1, len(boards))\n",
    "    fig.suptitle(f\"Event = {event_name}\")\n",
    "\n",
    "    for i, ax in enumerate(axs):\n",
    "        ax.xaxis.set_visible(False)\n",
    "        ax.yaxis.set_visible(False)\n",
    "        ax.set_title(f\"Step {i}\")\n",
    "        ax.imshow(imgs[i])\n",
    "\n",
    "    plt.show()\n",
    "\n",
    "\n",
    "show_example(boards, events)"
   ]
  },
  {
   "cell_type": "code",
   "execution_count": 8,
   "metadata": {},
   "outputs": [
    {
     "name": "stdout",
     "output_type": "stream",
     "text": [
      "Showing example 37\n"
     ]
    },
    {
     "data": {
      "image/png": "[encoded data removed]",
      "text/plain": [
       "<Figure size 640x480 with 2 Axes>"
      ]
     },
     "metadata": {},
     "output_type": "display_data"
    }
   ],
   "source": [
    "# Show a random example from the training set. Run this repeatedly to get an overview of the data.\n",
    "\n",
    "idx = random.randrange(len(db))\n",
    "print(f\"Showing example {idx}\")\n",
    "boards, events = db[idx]\n",
    "show_example(boards, events)"
   ]
  },
  {
   "attachments": {},
   "cell_type": "markdown",
   "metadata": {},
   "source": [
    "# Train/test split\n",
    "\n",
    "We split the data into training and test data."
   ]
  },
  {
   "cell_type": "code",
   "execution_count": 9,
   "metadata": {},
   "outputs": [
    {
     "name": "stdout",
     "output_type": "stream",
     "text": [
      "Files split into 41 training and 10 test examples.\n"
     ]
    }
   ],
   "source": [
    "test_split = 0.2\n",
    "test_count = int(test_split * len(db))\n",
    "train_count = len(db) - test_count\n",
    "\n",
    "idxs = list(range(len(db)))\n",
    "random.shuffle(idxs)\n",
    "\n",
    "for idx in range(train_count):\n",
    "    boards, events = db[idxs[idx]]\n",
    "    db_train.insert(boards, events)\n",
    "\n",
    "for idx in range(train_count, len(db)):\n",
    "    boards, events = db[idxs[idx]]\n",
    "    db_test.insert(boards, events)\n",
    "\n",
    "print(f\"Files split into {train_count} training and {test_count} test examples.\")"
   ]
  },
  {
   "cell_type": "code",
   "execution_count": 10,
   "metadata": {},
   "outputs": [],
   "source": [
    "# Clean up old database\n",
    "db.delete_all()"
   ]
  },
  {
   "attachments": {},
   "cell_type": "markdown",
   "metadata": {},
   "source": [
    "# Post-split checks"
   ]
  },
  {
   "attachments": {},
   "cell_type": "markdown",
   "metadata": {},
   "source": [
    "Let's check the number of each type of block spawn in both the training and test folder."
   ]
  },
  {
   "cell_type": "code",
   "execution_count": 11,
   "metadata": {},
   "outputs": [],
   "source": [
    "import torch\n",
    "from torch.utils.data import Dataset\n",
    "\n",
    "class RecordingDataset(Dataset):\n",
    "    def __init__(self, db: FileBasedDatabaseWithEvents):\n",
    "        self.db = db\n",
    "\n",
    "    def __len__(self):\n",
    "        return len(self.db)\n",
    "\n",
    "    def __getitem__(self, idx):\n",
    "        boards, events = self.db[idx]\n",
    "        x = torch.tensor(boards[-2]) # Ignore all boards except the last two\n",
    "        e = torch.tensor(events[-1])\n",
    "        y = torch.tensor(boards[-1], dtype=torch.long)\n",
    "        return (x, e), y\n",
    "        "
   ]
  },
  {
   "cell_type": "code",
   "execution_count": 12,
   "metadata": {},
   "outputs": [
    {
     "name": "stdout",
     "output_type": "stream",
     "text": [
      "Describing training dataset...\n",
      "{'I': 0, 'O': 2, 'T': 1, 'Z': 0, 'S': 1, 'J': 0, 'L': 1}\n",
      "Dataset has 5 block spawns.\n",
      "\n",
      "Describing test dataset...\n",
      "{'I': 0, 'O': 0, 'T': 0, 'Z': 0, 'S': 0, 'J': 0, 'L': 0}\n",
      "Dataset has 0 block spawns.\n"
     ]
    }
   ],
   "source": [
    "class BlockType:\n",
    "    I = \"I\"\n",
    "    O = \"O\"\n",
    "    T = \"T\"\n",
    "    Z = \"Z\"\n",
    "    S = \"S\"\n",
    "    J = \"J\"\n",
    "    L = \"L\"\n",
    "    All = [I, O, T, Z, S, J, L]\n",
    "    \n",
    "def get_block_spawn_type(example):\n",
    "    (x, e), y = example\n",
    "    if (x[0, :] > 0).any() | (y[0, :] == 0).all():\n",
    "        return None\n",
    "    if (y[1, :] == 0).all():\n",
    "        return BlockType.I\n",
    "    if y[0, 3] > 0:\n",
    "        if y[1, 3] > 0:\n",
    "            return BlockType.J\n",
    "        else:\n",
    "            if y[0, 5] > 0:\n",
    "                return BlockType.T\n",
    "            else:\n",
    "                return BlockType.Z\n",
    "    else:\n",
    "        if y[1, 3] > 0:\n",
    "            if y[0, 4] > 0:\n",
    "                return BlockType.S\n",
    "            else:\n",
    "                return BlockType.L\n",
    "        else:\n",
    "            return BlockType.O\n",
    "\n",
    "\n",
    "def count_block_spawns_by_type(dataset):\n",
    "    spawns_by_type = {block_type: 0 for block_type in BlockType.All}\n",
    "    for example in dataset:\n",
    "        spawn_type = get_block_spawn_type(example)\n",
    "        if spawn_type is not None:\n",
    "            spawns_by_type[spawn_type] += 1\n",
    "    return spawns_by_type\n",
    "\n",
    "\n",
    "def describe_block_spawns(dataset):\n",
    "    spawns_by_type = count_block_spawns_by_type(dataset)\n",
    "    print(spawns_by_type)\n",
    "    \n",
    "    num_block_spawns = sum(val for key, val in spawns_by_type.items() if key is not None)\n",
    "    frac_block_spawns = num_block_spawns / len(dataset)\n",
    "    print(f\"Dataset has {num_block_spawns} block spawns.\")\n",
    "\n",
    "\n",
    "train_dataset = RecordingDataset(db_train)\n",
    "test_dataset = RecordingDataset(db_test)\n",
    "\n",
    "print(\"Describing training dataset...\")\n",
    "describe_block_spawns(train_dataset)\n",
    "print()\n",
    "print(\"Describing test dataset...\")\n",
    "describe_block_spawns(test_dataset)"
   ]
  },
  {
   "cell_type": "code",
   "execution_count": null,
   "metadata": {},
   "outputs": [],
   "source": []
  }
 ],
 "metadata": {
  "kernelspec": {
   "display_name": "venv",
   "language": "python",
   "name": "python3"
  },
  "language_info": {
   "codemirror_mode": {
    "name": "ipython",
    "version": 3
   },
   "file_extension": ".py",
   "mimetype": "text/x-python",
   "name": "python",
   "nbconvert_exporter": "python",
   "pygments_lexer": "ipython3",
   "version": "3.10.7"
  },
  "orig_nbformat": 4
 },
 "nbformat": 4,
 "nbformat_minor": 2
}
