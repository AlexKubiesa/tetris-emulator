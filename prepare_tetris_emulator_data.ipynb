{
 "cells": [
  {
   "attachments": {},
   "cell_type": "markdown",
   "metadata": {},
   "source": [
    "# Prepare Tetris emulator data\n",
    "\n",
    "The data recorded while playing the game needs to be checked and cleaned before being used to train a model."
   ]
  },
  {
   "cell_type": "code",
   "execution_count": 1,
   "metadata": {},
   "outputs": [],
   "source": [
    "import os\n",
    "from pathlib import Path\n",
    "import random\n",
    "\n",
    "import numpy as np\n",
    "import matplotlib.pyplot as plt"
   ]
  },
  {
   "cell_type": "code",
   "execution_count": 3,
   "metadata": {},
   "outputs": [],
   "source": [
    "class RecordingFolder:\n",
    "    def __init__(self, path: str):\n",
    "        self.path = path\n",
    "        if not os.path.exists(path):\n",
    "            raise FileNotFoundError()\n",
    "        with os.scandir(self.path) as it:\n",
    "            it_files = (file for file in it if file.is_file())\n",
    "            try:\n",
    "                entry: os.DirEntry = next(iter(it_files))\n",
    "                _, self.ext = os.path.splitext(entry.name)\n",
    "            except StopIteration:\n",
    "                self.ext = None\n",
    "            self.highest_index = max((int(Path(file.path).stem) for file in it_files), default=-1)\n",
    "    \n",
    "    def __len__(self):\n",
    "        return self.highest_index + 1\n",
    "    \n",
    "    def __getitem__(self, idx):\n",
    "        file = os.path.join(self.path, f\"{idx}{self.ext}\")\n",
    "        if not os.path.exists(file):\n",
    "            raise IndexError()\n",
    "        return file\n",
    "    \n",
    "    def delete_items(self, idxs):\n",
    "        for idx in idxs:\n",
    "            file = os.path.join(self.path, f\"{idx}{self.ext}\")\n",
    "            os.remove(file)\n",
    "        self.reindex()\n",
    "    \n",
    "    def reindex(self):\n",
    "        self.recompute_highest_index()\n",
    "        for i1 in range(self.highest_index+1):\n",
    "            f1 = os.path.join(self.path, f\"{i1}{self.ext}\")\n",
    "            if os.path.exists(f1):\n",
    "                continue\n",
    "            for i2 in range(i1+1, self.highest_index+1):\n",
    "                f2 = os.path.join(self.path, f\"{i2}{self.ext}\")\n",
    "                if os.path.exists(f2):\n",
    "                    os.rename(f2, f1)\n",
    "                    break\n",
    "        self.recompute_highest_index()\n",
    "    \n",
    "    def recompute_highest_index(self):\n",
    "        with os.scandir(self.path) as it:\n",
    "            self.highest_index = max((int(Path(file.path).stem) for file in it if os.path.isfile(file)), default=-1)"
   ]
  },
  {
   "cell_type": "code",
   "execution_count": 6,
   "metadata": {},
   "outputs": [
    {
     "name": "stdout",
     "output_type": "stream",
     "text": [
      "data\\tetris_emulator has 2219 files.\n",
      "data\\tetris_emulator\\train has 0 files.\n",
      "data\\tetris_emulator\\test has 0 files.\n"
     ]
    }
   ],
   "source": [
    "folder = RecordingFolder(os.path.join(\"data\", \"tetris_emulator\"))\n",
    "train_folder = RecordingFolder(os.path.join(\"data\", \"tetris_emulator\", \"train\"))\n",
    "test_folder = RecordingFolder(os.path.join(\"data\", \"tetris_emulator\", \"test\"))\n",
    "print(f\"{folder.path} has {len(folder)} files.\")\n",
    "print(f\"{train_folder.path} has {len(train_folder)} files.\")\n",
    "print(f\"{test_folder.path} has {len(test_folder)} files.\")"
   ]
  },
  {
   "cell_type": "code",
   "execution_count": 7,
   "metadata": {},
   "outputs": [
    {
     "data": {
      "text/plain": [
       "array([[[0, 0, 0, 1, 0, 0, 0, 0, 0, 0],\n",
       "        [0, 0, 0, 1, 1, 1, 0, 0, 0, 0],\n",
       "        [0, 0, 0, 0, 0, 0, 0, 0, 0, 0],\n",
       "        [0, 0, 0, 0, 0, 0, 0, 0, 0, 0],\n",
       "        [0, 0, 0, 0, 0, 0, 0, 0, 0, 0],\n",
       "        [0, 0, 0, 0, 0, 0, 0, 0, 0, 0],\n",
       "        [0, 0, 0, 0, 0, 0, 0, 0, 0, 0],\n",
       "        [0, 0, 0, 0, 0, 0, 0, 0, 0, 0],\n",
       "        [0, 0, 0, 0, 0, 0, 0, 0, 0, 0],\n",
       "        [0, 0, 0, 0, 0, 0, 0, 0, 0, 0],\n",
       "        [0, 0, 0, 0, 0, 0, 0, 0, 0, 0],\n",
       "        [0, 0, 0, 0, 0, 0, 0, 0, 0, 0],\n",
       "        [0, 0, 0, 0, 0, 0, 0, 0, 0, 0],\n",
       "        [0, 0, 0, 0, 0, 0, 0, 0, 0, 0],\n",
       "        [0, 0, 0, 0, 0, 0, 0, 0, 0, 0],\n",
       "        [0, 0, 0, 0, 0, 0, 0, 0, 0, 0],\n",
       "        [0, 0, 0, 0, 0, 0, 0, 0, 0, 0],\n",
       "        [0, 0, 0, 0, 0, 0, 0, 0, 0, 0],\n",
       "        [0, 0, 0, 0, 0, 0, 0, 0, 0, 0],\n",
       "        [0, 0, 0, 0, 0, 0, 0, 0, 0, 0],\n",
       "        [0, 0, 0, 0, 0, 0, 0, 0, 0, 0],\n",
       "        [0, 0, 0, 0, 0, 0, 0, 0, 0, 0]],\n",
       "\n",
       "       [[0, 0, 0, 0, 0, 0, 0, 0, 0, 0],\n",
       "        [0, 0, 0, 1, 0, 0, 0, 0, 0, 0],\n",
       "        [0, 0, 0, 1, 1, 1, 0, 0, 0, 0],\n",
       "        [0, 0, 0, 0, 0, 0, 0, 0, 0, 0],\n",
       "        [0, 0, 0, 0, 0, 0, 0, 0, 0, 0],\n",
       "        [0, 0, 0, 0, 0, 0, 0, 0, 0, 0],\n",
       "        [0, 0, 0, 0, 0, 0, 0, 0, 0, 0],\n",
       "        [0, 0, 0, 0, 0, 0, 0, 0, 0, 0],\n",
       "        [0, 0, 0, 0, 0, 0, 0, 0, 0, 0],\n",
       "        [0, 0, 0, 0, 0, 0, 0, 0, 0, 0],\n",
       "        [0, 0, 0, 0, 0, 0, 0, 0, 0, 0],\n",
       "        [0, 0, 0, 0, 0, 0, 0, 0, 0, 0],\n",
       "        [0, 0, 0, 0, 0, 0, 0, 0, 0, 0],\n",
       "        [0, 0, 0, 0, 0, 0, 0, 0, 0, 0],\n",
       "        [0, 0, 0, 0, 0, 0, 0, 0, 0, 0],\n",
       "        [0, 0, 0, 0, 0, 0, 0, 0, 0, 0],\n",
       "        [0, 0, 0, 0, 0, 0, 0, 0, 0, 0],\n",
       "        [0, 0, 0, 0, 0, 0, 0, 0, 0, 0],\n",
       "        [0, 0, 0, 0, 0, 0, 0, 0, 0, 0],\n",
       "        [0, 0, 0, 0, 0, 0, 0, 0, 0, 0],\n",
       "        [0, 0, 0, 0, 0, 0, 0, 0, 0, 0],\n",
       "        [0, 0, 0, 0, 0, 0, 0, 0, 0, 0]]])"
      ]
     },
     "execution_count": 7,
     "metadata": {},
     "output_type": "execute_result"
    }
   ],
   "source": [
    "# Check we can read the files\n",
    "\n",
    "file = next(iter(folder))\n",
    "np.load(file)"
   ]
  },
  {
   "cell_type": "code",
   "execution_count": 16,
   "metadata": {},
   "outputs": [
    {
     "data": {
      "image/png": "[encoded data removed]",
      "text/plain": [
       "<Figure size 640x480 with 2 Axes>"
      ]
     },
     "metadata": {},
     "output_type": "display_data"
    }
   ],
   "source": [
    "def show_example(file):\n",
    "    boards = np.load(file)\n",
    "\n",
    "    fig, axs = plt.subplots(1, len(boards))\n",
    "    fig.suptitle(\"Training example\")\n",
    "\n",
    "    for i, ax in enumerate(axs):\n",
    "        ax.xaxis.set_visible(False)\n",
    "        ax.yaxis.set_visible(False)\n",
    "        ax.set_title(f\"Step {i}\")\n",
    "        ax.imshow(boards[i])\n",
    "\n",
    "    plt.show()\n",
    "\n",
    "\n",
    "show_example(file)"
   ]
  },
  {
   "cell_type": "code",
   "execution_count": 33,
   "metadata": {},
   "outputs": [
    {
     "name": "stdout",
     "output_type": "stream",
     "text": [
      "Showing example 1192\n"
     ]
    },
    {
     "data": {
      "image/png": "[encoded data removed]",
      "text/plain": [
       "<Figure size 640x480 with 2 Axes>"
      ]
     },
     "metadata": {},
     "output_type": "display_data"
    }
   ],
   "source": [
    "# Show a random example from the training set. Run this repeatedly to get an overview of the data.\n",
    "\n",
    "idx = random.randrange(len(folder))\n",
    "print(f\"Showing example {idx}\")\n",
    "file = folder[idx]\n",
    "show_example(file)"
   ]
  },
  {
   "attachments": {},
   "cell_type": "markdown",
   "metadata": {},
   "source": [
    "# Checks\n",
    "\n",
    "I noticed that in some earlier gameplay, when blocks got near the top, multiple blocks would pile up in the same location, which meant that some of the cells were not 0 or 1, but 2 or higher. Let's check that none of our data has this problem."
   ]
  },
  {
   "cell_type": "code",
   "execution_count": 34,
   "metadata": {},
   "outputs": [
    {
     "name": "stdout",
     "output_type": "stream",
     "text": [
      "File data\\tetris_emulator\\143.npy has invalid cells and was removed.\n",
      "File data\\tetris_emulator\\214.npy has invalid cells and was removed.\n",
      "File data\\tetris_emulator\\426.npy has invalid cells and was removed.\n",
      "File data\\tetris_emulator\\494.npy has invalid cells and was removed.\n",
      "File data\\tetris_emulator\\566.npy has invalid cells and was removed.\n",
      "File data\\tetris_emulator\\647.npy has invalid cells and was removed.\n",
      "File data\\tetris_emulator\\782.npy has invalid cells and was removed.\n",
      "File data\\tetris_emulator\\918.npy has invalid cells and was removed.\n",
      "File data\\tetris_emulator\\1048.npy has invalid cells and was removed.\n",
      "File data\\tetris_emulator\\1252.npy has invalid cells and was removed.\n",
      "File data\\tetris_emulator\\1395.npy has invalid cells and was removed.\n",
      "File data\\tetris_emulator\\1534.npy has invalid cells and was removed.\n",
      "File data\\tetris_emulator\\1605.npy has invalid cells and was removed.\n",
      "File data\\tetris_emulator\\1743.npy has invalid cells and was removed.\n",
      "File data\\tetris_emulator\\1812.npy has invalid cells and was removed.\n",
      "File data\\tetris_emulator\\2009.npy has invalid cells and was removed.\n",
      "File data\\tetris_emulator\\2085.npy has invalid cells and was removed.\n"
     ]
    }
   ],
   "source": [
    "for file in folder:\n",
    "    boards = np.load(file, allow_pickle=True)\n",
    "    if np.max(boards) > 1:\n",
    "        print(f\"File {file} has invalid cells and was removed.\")\n",
    "        os.remove(file)\n",
    "\n",
    "folder.reindex()"
   ]
  },
  {
   "attachments": {},
   "cell_type": "markdown",
   "metadata": {},
   "source": [
    "# Train/test split\n",
    "\n",
    "We split the data into training and test data."
   ]
  },
  {
   "cell_type": "code",
   "execution_count": 35,
   "metadata": {},
   "outputs": [
    {
     "name": "stdout",
     "output_type": "stream",
     "text": [
      "Files split into 1762 training and 440 test examples.\n"
     ]
    }
   ],
   "source": [
    "test_split = 0.2\n",
    "test_count = int(test_split * len(folder))\n",
    "train_count = len(folder) - test_count\n",
    "\n",
    "idxs = list(range(len(folder)))\n",
    "random.shuffle(idxs)\n",
    "\n",
    "for i in range(train_count):\n",
    "    old_file = os.path.join(\"data\", \"tetris_emulator\", str(idxs[i]) + folder.ext)\n",
    "    new_file = os.path.join(\"data\", \"tetris_emulator\", \"train\", str(i) + folder.ext)\n",
    "    os.rename(old_file, new_file)\n",
    "\n",
    "for i in range(train_count, len(folder)):\n",
    "    old_file = os.path.join(\"data\", \"tetris_emulator\", str(idxs[i]) + folder.ext)\n",
    "    new_file = os.path.join(\"data\", \"tetris_emulator\", \"test\", str(i - train_count) + folder.ext)\n",
    "    os.rename(old_file, new_file)\n",
    "\n",
    "print(f\"Files split into {train_count} training and {test_count} test examples.\")"
   ]
  },
  {
   "attachments": {},
   "cell_type": "markdown",
   "metadata": {},
   "source": [
    "# Post-split checks"
   ]
  },
  {
   "attachments": {},
   "cell_type": "markdown",
   "metadata": {},
   "source": [
    "Let's check the number of each type of block spawn in both the training and test folder."
   ]
  },
  {
   "cell_type": "code",
   "execution_count": 36,
   "metadata": {},
   "outputs": [],
   "source": [
    "import torch\n",
    "from torch.utils.data import Dataset\n",
    "\n",
    "class RecordingDataset(Dataset):\n",
    "    def __init__(self, path: str):\n",
    "        self.path = path\n",
    "        if not os.path.exists(path):\n",
    "            raise FileNotFoundError()\n",
    "        with os.scandir(self.path) as it:\n",
    "            entry: os.DirEntry = next(iter(it))\n",
    "            _, self.ext = os.path.splitext(entry.name)\n",
    "            self.highest_index = max((int(Path(file.path).stem) for file in it), default=-1)\n",
    "\n",
    "    def __len__(self):\n",
    "        return self.highest_index + 1\n",
    "\n",
    "    def __getitem__(self, idx):\n",
    "        file = os.path.join(self.path, f\"{idx}{self.ext}\")\n",
    "        if not os.path.exists(file):\n",
    "            raise IndexError()\n",
    "        boards = np.load(file)\n",
    "        x = torch.tensor(boards[-2]) # Ignore all boards except the last two\n",
    "        y = torch.tensor(boards[-1], dtype=torch.long)\n",
    "        return x, y\n",
    "        "
   ]
  },
  {
   "cell_type": "code",
   "execution_count": 37,
   "metadata": {},
   "outputs": [
    {
     "name": "stdout",
     "output_type": "stream",
     "text": [
      "Describing training dataset...\n",
      "{'I': 10, 'O': 16, 'T': 24, 'Z': 13, 'S': 27, 'J': 15, 'L': 20}\n",
      "Dataset has 125 block spawns.\n",
      "\n",
      "Describing test dataset...\n",
      "{'I': 5, 'O': 5, 'T': 6, 'Z': 8, 'S': 4, 'J': 7, 'L': 5}\n",
      "Dataset has 40 block spawns.\n"
     ]
    }
   ],
   "source": [
    "class BlockType:\n",
    "    I = \"I\"\n",
    "    O = \"O\"\n",
    "    T = \"T\"\n",
    "    Z = \"Z\"\n",
    "    S = \"S\"\n",
    "    J = \"J\"\n",
    "    L = \"L\"\n",
    "    All = [I, O, T, Z, S, J, L]\n",
    "    \n",
    "def get_block_spawn_type(example):\n",
    "    x, y = example\n",
    "    if (x[0, :] == 1).any() | (y[0, :] == 0).all():\n",
    "        return None\n",
    "    if (y[1, :] == 0).all():\n",
    "        return BlockType.I\n",
    "    if y[0, 3] == 1:\n",
    "        if y[1, 3] == 1:\n",
    "            return BlockType.J\n",
    "        else:\n",
    "            if y[0, 5] == 1:\n",
    "                return BlockType.T\n",
    "            else:\n",
    "                return BlockType.Z\n",
    "    else:\n",
    "        if y[1, 3] == 1:\n",
    "            if y[0, 4] == 1:\n",
    "                return BlockType.S\n",
    "            else:\n",
    "                return BlockType.L\n",
    "        else:\n",
    "            return BlockType.O\n",
    "\n",
    "\n",
    "def count_block_spawns_by_type(dataset):\n",
    "    spawns_by_type = {block_type: 0 for block_type in BlockType.All}\n",
    "    for example in dataset:\n",
    "        spawn_type = get_block_spawn_type(example)\n",
    "        if spawn_type is not None:\n",
    "            spawns_by_type[spawn_type] += 1\n",
    "    return spawns_by_type\n",
    "\n",
    "\n",
    "def describe_block_spawns(dataset):\n",
    "    spawns_by_type = count_block_spawns_by_type(dataset)\n",
    "    print(spawns_by_type)\n",
    "    \n",
    "    num_block_spawns = sum(val for key, val in spawns_by_type.items() if key is not None)\n",
    "    frac_block_spawns = num_block_spawns / len(dataset)\n",
    "    print(f\"Dataset has {num_block_spawns} block spawns.\")\n",
    "\n",
    "\n",
    "train_dataset = RecordingDataset(os.path.join(\"data\", \"tetris_emulator\", \"train\"))\n",
    "test_dataset = RecordingDataset(os.path.join(\"data\", \"tetris_emulator\", \"test\"))\n",
    "\n",
    "print(\"Describing training dataset...\")\n",
    "describe_block_spawns(train_dataset)\n",
    "print()\n",
    "print(\"Describing test dataset...\")\n",
    "describe_block_spawns(test_dataset)"
   ]
  },
  {
   "cell_type": "code",
   "execution_count": null,
   "metadata": {},
   "outputs": [],
   "source": []
  }
 ],
 "metadata": {
  "kernelspec": {
   "display_name": "venv",
   "language": "python",
   "name": "python3"
  },
  "language_info": {
   "codemirror_mode": {
    "name": "ipython",
    "version": 3
   },
   "file_extension": ".py",
   "mimetype": "text/x-python",
   "name": "python",
   "nbconvert_exporter": "python",
   "pygments_lexer": "ipython3",
   "version": "3.10.7"
  },
  "orig_nbformat": 4
 },
 "nbformat": 4,
 "nbformat_minor": 2
}
